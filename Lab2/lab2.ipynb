{
 "cells": [
  {
   "cell_type": "code",
   "execution_count": 1,
   "metadata": {},
   "outputs": [],
   "source": [
    "import pandas as pd\n",
    "import numpy as np "
   ]
  },
  {
   "cell_type": "markdown",
   "metadata": {},
   "source": [
    "# Needleman-Wunsch Algorithm"
   ]
  },
  {
   "cell_type": "code",
   "execution_count": 8,
   "metadata": {},
   "outputs": [
    {
     "name": "stdout",
     "output_type": "stream",
     "text": [
      "GCA-TGCG\n",
      "G-ATTACA\n"
     ]
    }
   ],
   "source": [
    "def nw(x, y, match = 1, mismatch = 1, gap = 1):\n",
    "    nx = len(x)\n",
    "    ny = len(y)\n",
    "    # Optimal score at each possible pair of characters.\n",
    "    F = np.zeros((nx + 1, ny + 1))\n",
    "    F[:,0] = np.linspace(0, -nx * gap, nx + 1)\n",
    "    F[0,:] = np.linspace(0, -ny * gap, ny + 1)\n",
    "    # Pointers to trace through an optimal aligment.\n",
    "    P = np.zeros((nx + 1, ny + 1))\n",
    "    P[:,0] = 3\n",
    "    P[0,:] = 4\n",
    "    # Temporary scores.\n",
    "    t = np.zeros(3)\n",
    "    for i in range(nx):\n",
    "        for j in range(ny):\n",
    "            if x[i] == y[j]:\n",
    "                t[0] = F[i,j] + match\n",
    "            else:\n",
    "                t[0] = F[i,j] - mismatch\n",
    "            t[1] = F[i,j+1] - gap\n",
    "            t[2] = F[i+1,j] - gap\n",
    "            tmax = np.max(t)\n",
    "            F[i+1,j+1] = tmax\n",
    "            if t[0] == tmax:\n",
    "                P[i+1,j+1] += 2\n",
    "            if t[1] == tmax:\n",
    "                P[i+1,j+1] += 3\n",
    "            if t[2] == tmax:\n",
    "                P[i+1,j+1] += 4\n",
    "    # Trace through an optimal alignment.\n",
    "    i = nx\n",
    "    j = ny\n",
    "    rx = []\n",
    "    ry = []\n",
    "    while i > 0 or j > 0:\n",
    "        if P[i,j] in [2, 5, 6, 9]:\n",
    "            rx.append(x[i-1])\n",
    "            ry.append(y[j-1])\n",
    "            i -= 1\n",
    "            j -= 1\n",
    "        elif P[i,j] in [3, 5, 7, 9]:\n",
    "            rx.append(x[i-1])\n",
    "            ry.append('-')\n",
    "            i -= 1\n",
    "        elif P[i,j] in [4, 6, 7, 9]:\n",
    "            rx.append('-')\n",
    "            ry.append(y[j-1])\n",
    "            j -= 1\n",
    "    # Reverse the strings.\n",
    "    rx = ''.join(rx)[::-1]\n",
    "    ry = ''.join(ry)[::-1]\n",
    "    return '\\n'.join([rx, ry])\n",
    "\n",
    "x = \"GCATGCG\"\n",
    "y = \"GATTACA\"\n",
    "print(nw(x,y))"
   ]
  }
 ],
 "metadata": {
  "kernelspec": {
   "display_name": "comp_bio",
   "language": "python",
   "name": "python3"
  },
  "language_info": {
   "codemirror_mode": {
    "name": "ipython",
    "version": 3
   },
   "file_extension": ".py",
   "mimetype": "text/x-python",
   "name": "python",
   "nbconvert_exporter": "python",
   "pygments_lexer": "ipython3",
   "version": "3.11.7"
  }
 },
 "nbformat": 4,
 "nbformat_minor": 2
}
